{
 "cells": [
  {
   "cell_type": "code",
   "execution_count": 1,
   "metadata": {
    "collapsed": true
   },
   "outputs": [],
   "source": [
    "import pandas as pd\n",
    "import numpy as np\n",
    "from sklearn.cross_validation import KFold, cross_val_score\n",
    "from sklearn.linear_model import LogisticRegression\n",
    "from sklearn.preprocessing import StandardScaler"
   ]
  },
  {
   "cell_type": "code",
   "execution_count": 2,
   "metadata": {
    "collapsed": true
   },
   "outputs": [],
   "source": [
    "features = pd.read_csv('/home/legonaftik/PycharmProjects/Введение-в-машинное-обучение-(ВШЭ)/week7/features.csv', \n",
    "                       index_col='match_id')\n",
    "target = features.radiant_win  # целевая переменная, т.к. мы пытаемся предсказать победителя\n",
    "\n",
    "features = features.drop([\"duration\", \"radiant_win\",  # удаляем признаки, связанные с окончанием игры\n",
    "                          \"tower_status_radiant\",\n",
    "                          \"tower_status_dire\",\n",
    "                         \"barracks_status_radiant\",\n",
    "                          \"barracks_status_dire\"], axis=1)"
   ]
  },
  {
   "cell_type": "code",
   "execution_count": 3,
   "metadata": {
    "collapsed": true
   },
   "outputs": [],
   "source": [
    "def fill_na(data):\n",
    "    columns_full_check = np.array(data.count() == data.shape[0])\n",
    "    not_full = np.array(data.columns[columns_full_check==False])\n",
    "    for col in not_full:\n",
    "        data[col].fillna(value=0, inplace=True)\n",
    "    return data"
   ]
  },
  {
   "cell_type": "code",
   "execution_count": 4,
   "metadata": {
    "collapsed": true
   },
   "outputs": [],
   "source": [
    "N = 112\n",
    "C = 0.01"
   ]
  },
  {
   "cell_type": "code",
   "execution_count": 5,
   "metadata": {
    "collapsed": true
   },
   "outputs": [],
   "source": [
    "# Добавление мешка слов\n",
    "def calculate_bag_matrix(data, N):\n",
    "    X_pick=np.zeros((data.shape[0], N))\n",
    "    for i, match_id in enumerate(data.index):\n",
    "        for p in range(5):\n",
    "            X_pick[i, data.ix[match_id, 'r%d_hero' % (p+1)] - 1] = 1\n",
    "            X_pick[i, data.ix[match_id, 'd%d_hero' % (p+1)] - 1] = -1\n",
    "    return X_pick"
   ]
  },
  {
   "cell_type": "code",
   "execution_count": 6,
   "metadata": {
    "collapsed": true
   },
   "outputs": [],
   "source": [
    "def improve_quality(data):\n",
    "    data = fill_na(data)\n",
    "    \n",
    "    data = data.drop([\"lobby_type\", \"r1_hero\", \"r2_hero\",\n",
    "                         \"r3_hero\", \"r4_hero\", \"r5_hero\",\n",
    "                         \"d1_hero\", \"d2_hero\", \"d3_hero\", \"d4_hero\", \"d5_hero\"], axis=1)\n",
    "\n",
    "    r_xp = data.r1_xp + data.r2_xp + data.r3_xp + data.r4_xp + data.r5_xp\n",
    "    d_xp = data.d1_xp + data.d2_xp + data.d3_xp + data.d4_xp + data.d5_xp\n",
    "\n",
    "    r_kills = data.r1_kills + data.r2_kills + data.r3_kills + data.r4_kills + data.r5_kills  \n",
    "    d_kills = data.d1_kills + data.d2_kills + data.d3_kills + data.d4_kills + data.d5_kills\n",
    "\n",
    "    r_level = data.r1_level + data.r2_level + data.r3_level + data.r4_level + data.r5_level  \n",
    "    d_level = data.d1_level + data.d2_level + data.d3_level + data.d4_level + data.d5_level\n",
    "\n",
    "    r_gold = data.r1_gold + data.r2_gold + data.r3_gold + data.r4_gold + data.r5_gold  \n",
    "    d_gold = data.d1_gold + data.d2_gold + data.d3_gold + data.d4_gold + data.d5_gold\n",
    "\n",
    "    r_lh = data.r1_lh + data.r2_lh + data.r3_lh + data.r4_lh + data.r5_lh  \n",
    "    d_lh = data.d1_lh + data.d2_lh + data.d3_lh + data.d4_lh + data.d5_lh \n",
    "    \n",
    "    r_deaths = data.r1_deaths + data.r2_deaths + data.r3_deaths + data.r4_deaths + data.r5_deaths  \n",
    "    d_deaths = data.d1_deaths + data.d2_deaths + data.d3_deaths + data.d4_deaths + data.d5_deaths\n",
    "    \n",
    "    r_items = data.r1_items + data.r2_items + data.r3_items + data.r4_items + data.r5_items \n",
    "    d_items = data.d1_items + data.d2_items + data.d3_items + data.d4_items + data.d5_items\n",
    "    \n",
    "    dif_xp = r_xp - d_xp\n",
    "    dif_kills = r_kills - d_kills\n",
    "    dif_level = r_level - d_level\n",
    "    dif_gold = r_gold - d_gold\n",
    "    dif_lh = r_lh - d_lh\n",
    "    dif_deaths = r_deaths - d_deaths\n",
    "    dif_items = r_items - d_items\n",
    "\n",
    "    data = data.drop([\"r1_xp\", \"r2_xp\", \"r3_xp\", \"r4_xp\", \"r5_xp\",\n",
    "                    \"d1_xp\", \"d2_xp\", \"d3_xp\", \"d4_xp\", \"d5_xp\"], axis=1)\n",
    "    data = data.drop([\"r1_kills\", \"r2_kills\", \"r3_kills\", \"r4_kills\", \"r5_kills\",\n",
    "                    \"d1_kills\", \"d2_kills\", \"d3_kills\", \"d4_kills\", \"d5_kills\"], axis=1)\n",
    "    data = data.drop([\"r1_level\", \"r2_level\", \"r3_level\", \"r4_level\", \"r5_level\",\n",
    "                    \"d1_level\", \"d2_level\", \"d3_level\", \"d4_level\", \"d5_level\"], axis=1)\n",
    "    data = data.drop([\"r1_gold\", \"r2_gold\", \"r3_gold\", \"r4_gold\", \"r5_gold\",\n",
    "                    \"d1_gold\", \"d2_gold\", \"d3_gold\", \"d4_gold\", \"d5_gold\"], axis=1)\n",
    "    data = data.drop([\"r1_lh\", \"r2_lh\", \"r3_lh\", \"r4_lh\", \"r5_lh\",\n",
    "                    \"d1_lh\", \"d2_lh\", \"d3_lh\", \"d4_lh\", \"d5_lh\"], axis=1)\n",
    "    data = data.drop([\"r1_deaths\", \"r2_deaths\", \"r3_deaths\", \"r4_deaths\", \"r5_deaths\",\n",
    "                    \"d1_deaths\", \"d2_deaths\", \"d3_deaths\", \"d4_deaths\", \"d5_deaths\"], axis=1)\n",
    "    data = data.drop([\"r1_items\", \"r2_items\", \"r3_items\", \"r4_items\", \"r5_items\",\n",
    "                    \"d1_items\", \"d2_items\", \"d3_items\", \"d4_items\", \"d5_items\"], axis=1)\n",
    "\n",
    "    data = np.column_stack((data, dif_xp, dif_kills, dif_level, dif_gold, dif_lh, dif_deaths, dif_items))\n",
    "    \n",
    "    return data"
   ]
  },
  {
   "cell_type": "code",
   "execution_count": 7,
   "metadata": {
    "collapsed": false
   },
   "outputs": [],
   "source": [
    "fun = improve_quality(features)\n",
    "\n",
    "\n",
    "# Расчёт для данных с мешком слов\n",
    "bag = calculate_bag_matrix(features, N)\n",
    "fun = np.hstack((fun, bag))\n",
    "\n",
    "\n",
    "scaler = StandardScaler()\n",
    "fun = scaler.fit_transform(fun)"
   ]
  },
  {
   "cell_type": "code",
   "execution_count": 8,
   "metadata": {
    "collapsed": false
   },
   "outputs": [
    {
     "data": {
      "text/plain": [
       "LogisticRegression(C=0.01, class_weight=None, dual=False, fit_intercept=True,\n",
       "          intercept_scaling=1, max_iter=100, multi_class='ovr', n_jobs=1,\n",
       "          penalty='l2', random_state=None, solver='liblinear', tol=0.0001,\n",
       "          verbose=0, warm_start=False)"
      ]
     },
     "execution_count": 8,
     "metadata": {},
     "output_type": "execute_result"
    }
   ],
   "source": [
    "kf = KFold(n=fun.shape[0], n_folds=5, shuffle=True, random_state=241)\n",
    "clf = LogisticRegression(penalty=\"l2\", C=C)\n",
    "clf.fit(fun, target)"
   ]
  },
  {
   "cell_type": "code",
   "execution_count": 9,
   "metadata": {
    "collapsed": false
   },
   "outputs": [
    {
     "data": {
      "text/plain": [
       "0.75240683217527005"
      ]
     },
     "execution_count": 9,
     "metadata": {},
     "output_type": "execute_result"
    }
   ],
   "source": [
    "scores = cross_val_score(clf, fun, target, cv=kf, scoring=\"roc_auc\")\n",
    "mean_score = scores.mean()\n",
    "mean_score  # 0.75240683217527005"
   ]
  },
  {
   "cell_type": "code",
   "execution_count": 10,
   "metadata": {
    "collapsed": false
   },
   "outputs": [],
   "source": [
    "# Приведём к аналогичному виду тестовые данные\n",
    "features_test = pd.read_csv(\"/home/legonaftik/PycharmProjects/Введение-в-машинное-обучение-(ВШЭ)/week7/features_test.csv\", \n",
    "                            index_col=\"match_id\")\n",
    "\n",
    "fun_test = improve_quality(features_test)\n",
    "\n",
    "\n",
    "bag_test = calculate_bag_matrix(features_test, N)\n",
    "fun_test = np.hstack((fun_test, bag_test))\n",
    "fun_test = scaler.transform(fun_test)"
   ]
  },
  {
   "cell_type": "code",
   "execution_count": 11,
   "metadata": {
    "collapsed": false
   },
   "outputs": [],
   "source": [
    "# Отправка результатов предсказания на Kaggle\n",
    "pred = clf.predict_proba(fun_test)[:, 1]\n",
    "indexes = list(features_test.index)\n",
    "with open(\"/home/legonaftik/PycharmProjects/Введение-в-машинное-обучение-(ВШЭ)/week7/kaggle_answer.csv\", \"w\") as output:\n",
    "    output.write(\"match_id,radiant_win\"+\"\\n\")\n",
    "    for i in range(len(indexes)):\n",
    "        output.write(str(indexes[i])+\",\"+str(pred[i])+\"\\n\")"
   ]
  }
 ],
 "metadata": {
  "kernelspec": {
   "display_name": "Python 3",
   "language": "python",
   "name": "python3"
  },
  "language_info": {
   "codemirror_mode": {
    "name": "ipython",
    "version": 3
   },
   "file_extension": ".py",
   "mimetype": "text/x-python",
   "name": "python",
   "nbconvert_exporter": "python",
   "pygments_lexer": "ipython3",
   "version": "3.5.1"
  }
 },
 "nbformat": 4,
 "nbformat_minor": 0
}
